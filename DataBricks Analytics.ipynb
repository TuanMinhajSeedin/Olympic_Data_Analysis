{
 "cells": [
  {
   "cell_type": "code",
   "execution_count": 0,
   "metadata": {
    "application/vnd.databricks.v1+cell": {
     "cellMetadata": {
      "byteLimit": 2048000,
      "rowLimit": 10000
     },
     "inputWidgets": {},
     "nuid": "309f7eaa-da0b-4685-b95d-82457da8eed3",
     "showTitle": false,
     "tableResultSettingsMap": {},
     "title": ""
    }
   },
   "outputs": [],
   "source": [
    "spark.conf.set(\"fs.azure.account.key.tokyoolympicdatanew2.dfs.core.windows.net\", \"access-key\")"
   ]
  },
  {
   "cell_type": "code",
   "execution_count": 0,
   "metadata": {
    "application/vnd.databricks.v1+cell": {
     "cellMetadata": {
      "byteLimit": 2048000,
      "rowLimit": 10000
     },
     "inputWidgets": {},
     "nuid": "a9580aef-c5cf-437e-9e6c-aeb4b4df14a7",
     "showTitle": false,
     "tableResultSettingsMap": {},
     "title": ""
    }
   },
   "outputs": [
    {
     "name": "stdout",
     "output_type": "stream",
     "text": [
      "+--------------------+------+----+-----+\n",
      "|          Discipline|Female|Male|Total|\n",
      "+--------------------+------+----+-----+\n",
      "|      3x3 Basketball|    32|  32|   64|\n",
      "|             Archery|    64|  64|  128|\n",
      "| Artistic Gymnastics|    98|  98|  196|\n",
      "|   Artistic Swimming|   105|   0|  105|\n",
      "|           Athletics|   969|1072| 2041|\n",
      "|           Badminton|    86|  87|  173|\n",
      "|   Baseball/Softball|    90| 144|  234|\n",
      "|          Basketball|   144| 144|  288|\n",
      "|    Beach Volleyball|    48|  48|   96|\n",
      "|              Boxing|   102| 187|  289|\n",
      "|        Canoe Slalom|    41|  41|   82|\n",
      "|        Canoe Sprint|   123| 126|  249|\n",
      "|Cycling BMX Frees...|    10|   9|   19|\n",
      "|  Cycling BMX Racing|    24|  24|   48|\n",
      "|Cycling Mountain ...|    38|  38|   76|\n",
      "|        Cycling Road|    70| 131|  201|\n",
      "|       Cycling Track|    90|  99|  189|\n",
      "|              Diving|    72|  71|  143|\n",
      "|          Equestrian|    73| 125|  198|\n",
      "|             Fencing|   107| 108|  215|\n",
      "+--------------------+------+----+-----+\n",
      "only showing top 20 rows\n",
      "\n"
     ]
    }
   ],
   "source": [
    "athletes = spark.read.format(\"csv\").option(\"header\", \"true\").load(\"abfss://tokyo-olympic-datanew@tokyoolympicdatanew2.dfs.core.windows.net/raw-data/athletes.csv\")\n",
    "coaches = spark.read.format(\"csv\").option(\"header\", \"true\").option(\"inferSchema\",\"true\").load(\"abfss://tokyo-olympic-datanew@tokyoolympicdatanew2.dfs.core.windows.net/raw-data/coaches.csv\")\n",
    "entries_gender = spark.read.format(\"csv\").option(\"header\", \"true\").option(\"inferSchema\",\"true\").load(\"abfss://tokyo-olympic-datanew@tokyoolympicdatanew2.dfs.core.windows.net/raw-data/entries_gender.csv\")\n",
    "medals = spark.read.format(\"csv\").option(\"header\", \"true\").option(\"inferSchema\",\"true\").load(\"abfss://tokyo-olympic-datanew@tokyoolympicdatanew2.dfs.core.windows.net/raw-data/medals.csv\")\n",
    "teams = spark.read.format(\"csv\").option(\"header\", \"true\").option(\"inferSchema\",\"true\").load(\"abfss://tokyo-olympic-datanew@tokyoolympicdatanew2.dfs.core.windows.net/raw-data/teams.csv\")\n",
    "entries_gender.show()\n"
   ]
  },
  {
   "cell_type": "code",
   "execution_count": 0,
   "metadata": {
    "application/vnd.databricks.v1+cell": {
     "cellMetadata": {
      "byteLimit": 2048000,
      "rowLimit": 10000
     },
     "inputWidgets": {},
     "nuid": "7672a611-b266-49de-b143-62756d3d6dc3",
     "showTitle": false,
     "tableResultSettingsMap": {},
     "title": ""
    }
   },
   "outputs": [
    {
     "name": "stdout",
     "output_type": "stream",
     "text": [
      "root\n",
      " |-- Discipline: string (nullable = true)\n",
      " |-- Female: integer (nullable = true)\n",
      " |-- Male: integer (nullable = true)\n",
      " |-- Total: integer (nullable = true)\n",
      "\n"
     ]
    }
   ],
   "source": [
    "entries_gender.printSchema()"
   ]
  },
  {
   "cell_type": "code",
   "execution_count": 0,
   "metadata": {
    "application/vnd.databricks.v1+cell": {
     "cellMetadata": {
      "byteLimit": 2048000,
      "rowLimit": 10000
     },
     "inputWidgets": {},
     "nuid": "40758bc1-b0b1-4237-808a-85a7fc4be58c",
     "showTitle": false,
     "tableResultSettingsMap": {},
     "title": ""
    }
   },
   "outputs": [
    {
     "name": "stdout",
     "output_type": "stream",
     "text": [
      "+--------------------+------+----+-----+-------------------+-------------------+\n",
      "|          Discipline|Female|Male|Total|      Ratio by male|    Ratio by Female|\n",
      "+--------------------+------+----+-----+-------------------+-------------------+\n",
      "|      3x3 Basketball|    32|  32|   64|                0.5|                0.5|\n",
      "|             Archery|    64|  64|  128|                0.5|                0.5|\n",
      "| Artistic Gymnastics|    98|  98|  196|                0.5|                0.5|\n",
      "|   Artistic Swimming|   105|   0|  105|                0.0|                1.0|\n",
      "|           Athletics|   969|1072| 2041| 0.5252327290543851| 0.4747672709456149|\n",
      "|           Badminton|    86|  87|  173| 0.5028901734104047|0.49710982658959535|\n",
      "|   Baseball/Softball|    90| 144|  234| 0.6153846153846154|0.38461538461538464|\n",
      "|          Basketball|   144| 144|  288|                0.5|                0.5|\n",
      "|    Beach Volleyball|    48|  48|   96|                0.5|                0.5|\n",
      "|              Boxing|   102| 187|  289| 0.6470588235294118|0.35294117647058826|\n",
      "|        Canoe Slalom|    41|  41|   82|                0.5|                0.5|\n",
      "|        Canoe Sprint|   123| 126|  249| 0.5060240963855421| 0.4939759036144578|\n",
      "|Cycling BMX Frees...|    10|   9|   19|0.47368421052631576| 0.5263157894736842|\n",
      "|  Cycling BMX Racing|    24|  24|   48|                0.5|                0.5|\n",
      "|Cycling Mountain ...|    38|  38|   76|                0.5|                0.5|\n",
      "|        Cycling Road|    70| 131|  201| 0.6517412935323383| 0.3482587064676617|\n",
      "|       Cycling Track|    90|  99|  189| 0.5238095238095238|0.47619047619047616|\n",
      "|              Diving|    72|  71|  143| 0.4965034965034965| 0.5034965034965035|\n",
      "|          Equestrian|    73| 125|  198| 0.6313131313131313| 0.3686868686868687|\n",
      "|             Fencing|   107| 108|  215| 0.5023255813953489|0.49767441860465117|\n",
      "+--------------------+------+----+-----+-------------------+-------------------+\n",
      "only showing top 20 rows\n",
      "\n"
     ]
    }
   ],
   "source": [
    "# entries_gender.orderBy(\"Female\",ascending=False).show()\n",
    "entries_gender_ratio=entries_gender.withColumn(\"Ratio by male\", entries_gender['Male']/entries_gender['Total']).\\\n",
    "    withColumn(\"Ratio by Female\", entries_gender['Female']/entries_gender['Total'])\n",
    "entries_gender_ratio.show()"
   ]
  },
  {
   "cell_type": "code",
   "execution_count": 0,
   "metadata": {
    "application/vnd.databricks.v1+cell": {
     "cellMetadata": {
      "byteLimit": 2048000,
      "rowLimit": 10000
     },
     "inputWidgets": {},
     "nuid": "5cf80d92-5902-40cc-be45-6f6f2fba138e",
     "showTitle": false,
     "tableResultSettingsMap": {},
     "title": ""
    }
   },
   "outputs": [],
   "source": [
    "output_path = \"abfss://tokyo-olympic-datanew@tokyoolympicdatanew2.dfs.core.windows.net/transformed-data/athletes\"\n",
    "athletes.repartition(1).write.mode('overwrite').option('header', 'true').csv(\"abfss://tokyo-olympic-datanew@tokyoolympicdatanew2.dfs.core.windows.net/transformed-data/athletes\")\n",
    "coaches.repartition(1).write.mode('overwrite').option('header', 'true').csv(\"abfss://tokyo-olympic-datanew@tokyoolympicdatanew2.dfs.core.windows.net/transformed-data/coaches\")\n",
    "entries_gender.repartition(1).write.mode('overwrite').option('header', 'true').csv(\"abfss://tokyo-olympic-datanew@tokyoolympicdatanew2.dfs.core.windows.net/transformed-data/entries_gender\")\n",
    "medals.repartition(1).write.mode('overwrite').option('header', 'true').csv(\"abfss://tokyo-olympic-datanew@tokyoolympicdatanew2.dfs.core.windows.net/transformed-data/medals\")\n",
    "teams.repartition(1).write.mode('overwrite').option('header', 'true').csv(\"abfss://tokyo-olympic-datanew@tokyoolympicdatanew2.dfs.core.windows.net/transformed-data/teams\")\n"
   ]
  },
  {
   "cell_type": "code",
   "execution_count": 0,
   "metadata": {
    "application/vnd.databricks.v1+cell": {
     "cellMetadata": {},
     "inputWidgets": {},
     "nuid": "dd925055-b52b-435f-8a8b-f10bad66104b",
     "showTitle": false,
     "tableResultSettingsMap": {},
     "title": ""
    }
   },
   "outputs": [],
   "source": []
  }
 ],
 "metadata": {
  "application/vnd.databricks.v1+notebook": {
   "computePreferences": null,
   "dashboards": [],
   "environmentMetadata": {
    "base_environment": "",
    "client": "1"
   },
   "language": "python",
   "notebookMetadata": {
    "pythonIndentUnit": 4
   },
   "notebookName": "Untitled Notebook 2025-01-01 15:22:32",
   "widgets": {}
  },
  "language_info": {
   "name": "python"
  }
 },
 "nbformat": 4,
 "nbformat_minor": 0
}
